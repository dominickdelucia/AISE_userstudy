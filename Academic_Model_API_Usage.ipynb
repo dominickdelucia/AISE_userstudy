{
 "cells": [
  {
   "cell_type": "markdown",
   "metadata": {},
   "source": [
    "## This is the main procedure for utilizing the leading models in Academia as referenced by CodeXGLUE by Microsoft"
   ]
  },
  {
   "cell_type": "markdown",
   "metadata": {},
   "source": [
    "### These models are hosted by huggingface.co and require a simple sign up and API token to use"
   ]
  },
  {
   "cell_type": "code",
   "execution_count": 487,
   "metadata": {},
   "outputs": [],
   "source": [
    "# Here is my API token: I am leaving it here for ease of use of this code\n",
    "# Should run as written\n",
    "API_TOKEN = \"api_FavCSiBsiTZYJtIytCpNBojxXWBsErhGyO\""
   ]
  },
  {
   "cell_type": "code",
   "execution_count": 488,
   "metadata": {},
   "outputs": [],
   "source": [
    "import json\n",
    "\n",
    "import requests\n",
    "\n",
    "API_URL = \"https://api-inference.huggingface.co/models/microsoft/CodeGPT-small-py-adaptedGPT2\"\n",
    "# API_URL = \"https://api-inference.huggingface.co/models/microsoft/CodeGPT-small-py\"\n",
    "headers = {\"Authorization\": f\"Bearer {API_TOKEN}\"}\n",
    "\n",
    "def query(payload):\n",
    "    data = json.dumps(payload)\n",
    "    response = requests.request(\"POST\", API_URL, headers=headers, data=data)\n",
    "    return json.loads(response.content.decode(\"utf-8\"))"
   ]
  },
  {
   "cell_type": "code",
   "execution_count": 494,
   "metadata": {},
   "outputs": [
    {
     "data": {
      "text/plain": [
       "[{'generated_text': \"import numpy as xt ... return self.__init__(*pargs, **kargs) >>> res = xr.DataArray(np.full(shape=None), dims=('x',)) >>> res.f_\"}]"
      ]
     },
     "execution_count": 494,
     "metadata": {},
     "output_type": "execute_result"
    }
   ],
   "source": [
    "text = \"import numpy as \"\n",
    "query(text)"
   ]
  },
  {
   "cell_type": "markdown",
   "metadata": {},
   "source": [
    "### BELOW IS TRIAL CODE FOR ALTERNATIVE INPUT TYPES"
   ]
  },
  {
   "cell_type": "code",
   "execution_count": 1,
   "metadata": {},
   "outputs": [],
   "source": [
    "# import ast\n",
    "# import ast2json\n",
    "\n",
    "# with open(\"eval_code_ORACLE/django1.py\",\"r\") as file:\n",
    "#     tree = ast.parse(file.read())\n",
    "\n",
    "# from ast2json import str2json\n",
    "\n",
    "# str_for_pred = open(\"eval_code_ORACLE/django1_cut1.txt\").read()\n",
    "\n",
    "# str_for_pred\n",
    "\n",
    "# ast_code = str2json(open(\"eval_code_ORACLE/pandas1_cut1.py\").read())\n",
    "\n",
    "# ast_pred = query(ast_code)\n",
    "\n",
    "# ast_pred\n",
    "\n",
    "# from tokenize import generate_tokens,tokenize\n",
    "\n",
    "# linebreak = 10\n",
    "# filename = \"eval_code_ORACLE/pandas1_cut1.py\"\n",
    "\n",
    "# string_code = \"\"\n",
    "\n",
    "# with open(filename, \"r\") as code:\n",
    "#     for i in range(linebreak):\n",
    "#         token_iter = generate_tokens(code.readline)\n",
    "#         for j in token_iter:\n",
    "#             string_code+= \" \" + j.string\n",
    "# # string_code += \"</s>\"\n",
    "# string_code = string_code.replace(\"\\n\",\" \")"
   ]
  },
  {
   "cell_type": "markdown",
   "metadata": {},
   "source": [
    "### None of these alternative input representations produced decent results, thus I concluded that the baseline models (without the \"fine tuning\" take in raw code as a text string"
   ]
  }
 ],
 "metadata": {
  "kernelspec": {
   "display_name": "codecomp_py3",
   "language": "python",
   "name": "codecomp_kernel"
  },
  "language_info": {
   "codemirror_mode": {
    "name": "ipython",
    "version": 3
   },
   "file_extension": ".py",
   "mimetype": "text/x-python",
   "name": "python",
   "nbconvert_exporter": "python",
   "pygments_lexer": "ipython3",
   "version": "3.7.10"
  }
 },
 "nbformat": 4,
 "nbformat_minor": 4
}
